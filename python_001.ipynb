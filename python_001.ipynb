{
 "cells": [
  {
   "cell_type": "markdown",
   "metadata": {},
   "source": [
    "# Learn Python and get computers to work!!"
   ]
  },
  {
   "cell_type": "raw",
   "metadata": {},
   "source": [
    "How to use this python notebook:\n",
    "    Play the given below video: resize the window\n",
    "        now run the jupyter notebook: resize\n",
    "            (Benefit: you can run the code, while listening the video)\n",
    "            Run the cells: Shift + Enter (in jupter notebook)\n",
    "            Enjoy the ride friends :) \n",
    "            \n",
    "Vinod: vinod.bioinfo@gmail.com"
   ]
  },
  {
   "cell_type": "raw",
   "metadata": {},
   "source": [
    "Video Source: https://www.youtube.com/watch?v=rfscVS0vtbw\n",
    "Learn Python - Full Course for Beginners\n",
    "freeCodeCamp.Org"
   ]
  },
  {
   "cell_type": "raw",
   "metadata": {},
   "source": [
    "The classic print : like every other computer-language everyone learnts!!"
   ]
  },
  {
   "cell_type": "code",
   "execution_count": 15,
   "metadata": {},
   "outputs": [
    {
     "name": "stdout",
     "output_type": "stream",
     "text": [
      "Hello. Mister\n",
      "     /|\n",
      "    / |\n",
      "   /  |\n",
      "  /   |\n"
     ]
    }
   ],
   "source": [
    "print(\"Hello. Mister\")\n",
    "print(\"     /|\")\n",
    "print(\"    / |\")\n",
    "print(\"   /  |\")\n",
    "print(\"  /   |\")"
   ]
  },
  {
   "cell_type": "raw",
   "metadata": {},
   "source": [
    "The print with the variable name : Time to evolve a bit from the print statement."
   ]
  },
  {
   "cell_type": "code",
   "execution_count": 18,
   "metadata": {},
   "outputs": [
    {
     "name": "stdout",
     "output_type": "stream",
     "text": [
      "....bla bla John,\n",
      "....35,...bla..bla\n",
      "....bla bla Mike,\n",
      "....45,...bla..bla\n"
     ]
    }
   ],
   "source": [
    "character_name=\"John\"\n",
    "character_age=\"35\"\n",
    "print(\"....bla bla \"+ character_name +\",\")\n",
    "print(\"....\"+character_age+\",...bla..bla\")\n",
    "\n",
    "\n",
    "character_name=\"Mike\"\n",
    "character_age=\"45\"\n",
    "print(\"....bla bla \"+ character_name +\",\")\n",
    "print(\"....\"+character_age+\",...bla..bla\")\n",
    "\n"
   ]
  },
  {
   "cell_type": "markdown",
   "metadata": {},
   "source": [
    "# Data Structures "
   ]
  },
  {
   "cell_type": "raw",
   "metadata": {},
   "source": [
    "string\"s world Amigo"
   ]
  },
  {
   "cell_type": "code",
   "execution_count": 28,
   "metadata": {},
   "outputs": [
    {
     "name": "stdout",
     "output_type": "stream",
     "text": [
      "Vin's\n",
      " World\n"
     ]
    }
   ],
   "source": [
    "print(\"Vin's\\n World\")"
   ]
  },
  {
   "cell_type": "code",
   "execution_count": 34,
   "metadata": {},
   "outputs": [
    {
     "name": "stdout",
     "output_type": "stream",
     "text": [
      "Vin's\" World\n"
     ]
    }
   ],
   "source": [
    "print(\"Vin's\\\" World\")"
   ]
  },
  {
   "cell_type": "code",
   "execution_count": 39,
   "metadata": {},
   "outputs": [
    {
     "name": "stdout",
     "output_type": "stream",
     "text": [
      "Vin is cool\n"
     ]
    }
   ],
   "source": [
    "phrase=\"Vin \"\n",
    "print(phrase  + \"is cool\")"
   ]
  },
  {
   "cell_type": "code",
   "execution_count": 45,
   "metadata": {},
   "outputs": [
    {
     "name": "stdout",
     "output_type": "stream",
     "text": [
      "True\n"
     ]
    }
   ],
   "source": [
    "print(phrase.upper().isupper())"
   ]
  },
  {
   "cell_type": "code",
   "execution_count": 47,
   "metadata": {},
   "outputs": [
    {
     "name": "stdout",
     "output_type": "stream",
     "text": [
      "4\n"
     ]
    }
   ],
   "source": [
    "print(len(phrase))"
   ]
  },
  {
   "cell_type": "code",
   "execution_count": 50,
   "metadata": {},
   "outputs": [
    {
     "name": "stdout",
     "output_type": "stream",
     "text": [
      "V\n",
      "n\n"
     ]
    }
   ],
   "source": [
    "print(phrase[0])\n",
    "print(phrase[2])\n"
   ]
  },
  {
   "cell_type": "code",
   "execution_count": 55,
   "metadata": {},
   "outputs": [
    {
     "name": "stdout",
     "output_type": "stream",
     "text": [
      "0\n"
     ]
    }
   ],
   "source": [
    "print(phrase.index(\"V\"))"
   ]
  },
  {
   "cell_type": "code",
   "execution_count": 59,
   "metadata": {},
   "outputs": [
    {
     "name": "stdout",
     "output_type": "stream",
     "text": [
      "2\n"
     ]
    }
   ],
   "source": [
    "print(phrase.index(\"n\"))"
   ]
  },
  {
   "cell_type": "code",
   "execution_count": 61,
   "metadata": {},
   "outputs": [
    {
     "name": "stdout",
     "output_type": "stream",
     "text": [
      "Vinod \n"
     ]
    }
   ],
   "source": [
    "print(phrase.replace(\"n\",\"nod\"))"
   ]
  },
  {
   "cell_type": "raw",
   "metadata": {},
   "source": [
    "Working With Numbers"
   ]
  },
  {
   "cell_type": "code",
   "execution_count": 62,
   "metadata": {},
   "outputs": [
    {
     "name": "stdout",
     "output_type": "stream",
     "text": [
      "12\n"
     ]
    }
   ],
   "source": [
    "print(3*4)"
   ]
  },
  {
   "cell_type": "code",
   "execution_count": 64,
   "metadata": {},
   "outputs": [
    {
     "name": "stdout",
     "output_type": "stream",
     "text": [
      "28\n"
     ]
    }
   ],
   "source": [
    "print(3+5*5)"
   ]
  },
  {
   "cell_type": "code",
   "execution_count": 66,
   "metadata": {},
   "outputs": [
    {
     "name": "stdout",
     "output_type": "stream",
     "text": [
      "% Will give the reminder after the divide term\n",
      "1\n"
     ]
    }
   ],
   "source": [
    "print(\"% Will give the reminder after the divide term\")\n",
    "print(10%3) "
   ]
  },
  {
   "cell_type": "code",
   "execution_count": 67,
   "metadata": {},
   "outputs": [
    {
     "name": "stdout",
     "output_type": "stream",
     "text": [
      "5\n"
     ]
    }
   ],
   "source": [
    "my_num=5\n",
    "print(my_num)"
   ]
  },
  {
   "cell_type": "code",
   "execution_count": 73,
   "metadata": {},
   "outputs": [
    {
     "name": "stdout",
     "output_type": "stream",
     "text": [
      "5my number\n"
     ]
    }
   ],
   "source": [
    "my_num=5\n",
    "print(str(my_num) + \"my number\")"
   ]
  },
  {
   "cell_type": "raw",
   "metadata": {},
   "source": [
    "Function is little collection of the code, that does something"
   ]
  },
  {
   "cell_type": "code",
   "execution_count": 76,
   "metadata": {},
   "outputs": [
    {
     "name": "stdout",
     "output_type": "stream",
     "text": [
      "9\n"
     ]
    }
   ],
   "source": [
    "print(pow(3,2)) #power 3 ki 2"
   ]
  },
  {
   "cell_type": "code",
   "execution_count": 78,
   "metadata": {},
   "outputs": [
    {
     "name": "stdout",
     "output_type": "stream",
     "text": [
      "6\n"
     ]
    }
   ],
   "source": [
    "print(max(4,6)) #finds the max number"
   ]
  },
  {
   "cell_type": "code",
   "execution_count": 79,
   "metadata": {},
   "outputs": [
    {
     "name": "stdout",
     "output_type": "stream",
     "text": [
      "4\n"
     ]
    }
   ],
   "source": [
    "print(min(4,6)) #finds min number"
   ]
  },
  {
   "cell_type": "code",
   "execution_count": 80,
   "metadata": {},
   "outputs": [
    {
     "name": "stdout",
     "output_type": "stream",
     "text": [
      "4\n"
     ]
    }
   ],
   "source": [
    "print(round(3.7))  #"
   ]
  },
  {
   "cell_type": "code",
   "execution_count": 86,
   "metadata": {},
   "outputs": [],
   "source": [
    "from math import *  #to access the different math functions\n",
    "import math as mm"
   ]
  },
  {
   "cell_type": "code",
   "execution_count": 84,
   "metadata": {},
   "outputs": [
    {
     "name": "stdout",
     "output_type": "stream",
     "text": [
      "4\n"
     ]
    }
   ],
   "source": [
    "print(ceil(3.2))  #finds the next number, whatever is the float number"
   ]
  },
  {
   "cell_type": "code",
   "execution_count": 87,
   "metadata": {},
   "outputs": [
    {
     "name": "stdout",
     "output_type": "stream",
     "text": [
      "6.0\n"
     ]
    }
   ],
   "source": [
    "print(sqrt(36))"
   ]
  },
  {
   "cell_type": "code",
   "execution_count": 90,
   "metadata": {
    "scrolled": true
   },
   "outputs": [
    {
     "data": {
      "text/plain": [
       "['',\n",
       " '/anaconda3/lib/python36.zip',\n",
       " '/anaconda3/lib/python3.6',\n",
       " '/anaconda3/lib/python3.6/lib-dynload',\n",
       " '/anaconda3/lib/python3.6/site-packages',\n",
       " '/anaconda3/lib/python3.6/site-packages/aeosa',\n",
       " '/anaconda3/lib/python3.6/site-packages/torchvision-0.2.1-py3.6.egg',\n",
       " '/anaconda3/lib/python3.6/site-packages/IPython/extensions',\n",
       " '/Users/vkumar/.ipython']"
      ]
     },
     "execution_count": 90,
     "metadata": {},
     "output_type": "execute_result"
    }
   ],
   "source": [
    "import sys\n",
    "sys.path"
   ]
  },
  {
   "cell_type": "raw",
   "metadata": {},
   "source": [
    "Getting Input From Users"
   ]
  },
  {
   "cell_type": "code",
   "execution_count": 92,
   "metadata": {},
   "outputs": [
    {
     "name": "stdout",
     "output_type": "stream",
     "text": [
      "\"VV\"\n"
     ]
    },
    {
     "data": {
      "text/plain": [
       "'\"VV\"'"
      ]
     },
     "execution_count": 92,
     "metadata": {},
     "output_type": "execute_result"
    }
   ],
   "source": [
    "input()"
   ]
  },
  {
   "cell_type": "code",
   "execution_count": 95,
   "metadata": {},
   "outputs": [
    {
     "name": "stdout",
     "output_type": "stream",
     "text": [
      "Enter your name: Vin\n"
     ]
    }
   ],
   "source": [
    "name = input(\"Enter your name: \")"
   ]
  },
  {
   "cell_type": "code",
   "execution_count": 96,
   "metadata": {},
   "outputs": [
    {
     "name": "stdout",
     "output_type": "stream",
     "text": [
      "HelloVin!\n"
     ]
    }
   ],
   "source": [
    "print(\"Hello\" + name + \"!\")"
   ]
  },
  {
   "cell_type": "code",
   "execution_count": 97,
   "metadata": {},
   "outputs": [
    {
     "name": "stdout",
     "output_type": "stream",
     "text": [
      "age please40\n"
     ]
    }
   ],
   "source": [
    "age=input(\"age please\")"
   ]
  },
  {
   "cell_type": "code",
   "execution_count": 101,
   "metadata": {},
   "outputs": [
    {
     "name": "stdout",
     "output_type": "stream",
     "text": [
      "HelloVin! You are 40\n"
     ]
    }
   ],
   "source": [
    "print(\"Hello\" + name + \"! You are \" + age)"
   ]
  },
  {
   "cell_type": "raw",
   "metadata": {},
   "source": [
    "Building a Basic Calculator"
   ]
  },
  {
   "cell_type": "code",
   "execution_count": 107,
   "metadata": {},
   "outputs": [
    {
     "name": "stdout",
     "output_type": "stream",
     "text": [
      "Enter a number:3\n",
      "Enter a number:3\n",
      "6.0\n"
     ]
    }
   ],
   "source": [
    "num1=input(\"Enter a number:\")\n",
    "num2=input(\"Enter a number:\")\n",
    "result=float(num1)+float(num2)\n",
    "print(result)"
   ]
  },
  {
   "cell_type": "raw",
   "metadata": {},
   "source": [
    "Mad Libs Game"
   ]
  },
  {
   "cell_type": "code",
   "execution_count": 114,
   "metadata": {},
   "outputs": [
    {
     "name": "stdout",
     "output_type": "stream",
     "text": [
      "Enter the size of your brain50\n",
      "Enter your IQ50\n",
      "Enter your Namevin\n",
      "Hello vin\n",
      "50 with a brain size of \n",
      "and the coolest iq of 50\n"
     ]
    }
   ],
   "source": [
    "size=input(\"Enter the size of your brain:\")\n",
    "iq=input(\"Enter your IQ:\")\n",
    "name=input(\"Enter your Name:\")\n",
    "\n",
    "print(\"Hello \"+name)\n",
    "print(size + \" with a brain size of \")\n",
    "print(\"and the coolest iq of \"+ iq)\n"
   ]
  },
  {
   "cell_type": "markdown",
   "metadata": {},
   "source": [
    "# Lists"
   ]
  },
  {
   "cell_type": "raw",
   "metadata": {},
   "source": [
    "workng with Lists in python. \n",
    "managing large amount of the data\n",
    "like structure: put bunch of related values\n",
    "with square brackets (python knows that it is list)"
   ]
  },
  {
   "cell_type": "code",
   "execution_count": 125,
   "metadata": {},
   "outputs": [],
   "source": [
    "friends = [\"Mohit\",\"Aygul\",\"Ram\"]"
   ]
  },
  {
   "cell_type": "code",
   "execution_count": 120,
   "metadata": {},
   "outputs": [
    {
     "data": {
      "text/plain": [
       "['Mohit', 'Aygul', 'Ram']"
      ]
     },
     "execution_count": 120,
     "metadata": {},
     "output_type": "execute_result"
    }
   ],
   "source": [
    "friends"
   ]
  },
  {
   "cell_type": "code",
   "execution_count": 123,
   "metadata": {},
   "outputs": [
    {
     "name": "stdout",
     "output_type": "stream",
     "text": [
      "Mohit\n"
     ]
    }
   ],
   "source": [
    "print(friends[0])"
   ]
  },
  {
   "cell_type": "code",
   "execution_count": 126,
   "metadata": {},
   "outputs": [
    {
     "name": "stdout",
     "output_type": "stream",
     "text": [
      "Aygul\n"
     ]
    }
   ],
   "source": [
    "print(friends[1])"
   ]
  },
  {
   "cell_type": "code",
   "execution_count": 127,
   "metadata": {},
   "outputs": [
    {
     "name": "stdout",
     "output_type": "stream",
     "text": [
      "Ram\n"
     ]
    }
   ],
   "source": [
    "print(friends[-1]) #from backwards"
   ]
  },
  {
   "cell_type": "code",
   "execution_count": 128,
   "metadata": {},
   "outputs": [
    {
     "name": "stdout",
     "output_type": "stream",
     "text": [
      "['Aygul', 'Ram']\n"
     ]
    }
   ],
   "source": [
    "print(friends[1:]) #from backwards"
   ]
  },
  {
   "cell_type": "code",
   "execution_count": 130,
   "metadata": {},
   "outputs": [
    {
     "name": "stdout",
     "output_type": "stream",
     "text": [
      "['Aygul']\n"
     ]
    }
   ],
   "source": [
    "print(friends[1:2]) #from backwards"
   ]
  },
  {
   "cell_type": "raw",
   "metadata": {},
   "source": [
    "Lists are invalues , they can contains millions of the data points"
   ]
  },
  {
   "cell_type": "code",
   "execution_count": 143,
   "metadata": {},
   "outputs": [
    {
     "name": "stdout",
     "output_type": "stream",
     "text": [
      "['Kevin', 'Karen', 'Jim', 'Oscar', 'Ram', 4, 5, 6, 7, 8, 9]\n"
     ]
    }
   ],
   "source": [
    "lucky_numbers=[4,5,6,7,8,9]\n",
    "friends=[\"Kevin\",\"Karen\",\"Jim\",\"Oscar\",\"Ram\",]\n",
    "friends.extend(lucky_numbers)\n",
    "print(friends)"
   ]
  },
  {
   "cell_type": "code",
   "execution_count": 148,
   "metadata": {},
   "outputs": [
    {
     "name": "stdout",
     "output_type": "stream",
     "text": [
      "['Kevin', 'Karen', 'Jim', 'Oscar', 'Ram', 'Creed']\n"
     ]
    }
   ],
   "source": [
    "lucky_numbers=[4,5,6,7,8,9]\n",
    "friends=[\"Kevin\",\"Karen\",\"Jim\",\"Oscar\",\"Ram\",]\n",
    "friends.append(\"Creed\")\n",
    "print(friends)"
   ]
  },
  {
   "cell_type": "code",
   "execution_count": 149,
   "metadata": {},
   "outputs": [
    {
     "data": {
      "text/plain": [
       "['Kevin', 'Anna', 'Karen', 'Jim', 'Oscar', 'Ram', 'Creed']"
      ]
     },
     "execution_count": 149,
     "metadata": {},
     "output_type": "execute_result"
    }
   ],
   "source": [
    "friends.insert(1,\"Anna\")\n",
    "friends"
   ]
  },
  {
   "cell_type": "code",
   "execution_count": 150,
   "metadata": {},
   "outputs": [
    {
     "data": {
      "text/plain": [
       "['Kevin', 'Anna', 'Karen', 'Oscar', 'Ram', 'Creed']"
      ]
     },
     "execution_count": 150,
     "metadata": {},
     "output_type": "execute_result"
    }
   ],
   "source": [
    "friends.remove(\"Jim\")\n",
    "friends"
   ]
  },
  {
   "cell_type": "code",
   "execution_count": 157,
   "metadata": {},
   "outputs": [
    {
     "name": "stdout",
     "output_type": "stream",
     "text": [
      "4\n"
     ]
    }
   ],
   "source": [
    "print(friends.index(\"Ram\"))"
   ]
  },
  {
   "cell_type": "code",
   "execution_count": 158,
   "metadata": {},
   "outputs": [
    {
     "name": "stdout",
     "output_type": "stream",
     "text": [
      "1\n"
     ]
    }
   ],
   "source": [
    "print(friends.count(\"Ram\"))"
   ]
  },
  {
   "cell_type": "code",
   "execution_count": 160,
   "metadata": {},
   "outputs": [
    {
     "data": {
      "text/plain": [
       "['Anna', 'Creed', 'Karen', 'Kevin', 'Oscar', 'Ram']"
      ]
     },
     "execution_count": 160,
     "metadata": {},
     "output_type": "execute_result"
    }
   ],
   "source": [
    "friends.sort()\n",
    "friends"
   ]
  },
  {
   "cell_type": "code",
   "execution_count": 161,
   "metadata": {},
   "outputs": [
    {
     "data": {
      "text/plain": [
       "[4, 5, 6, 7, 8, 9]"
      ]
     },
     "execution_count": 161,
     "metadata": {},
     "output_type": "execute_result"
    }
   ],
   "source": [
    "lucky_numbers.sort()\n",
    "lucky_numbers"
   ]
  },
  {
   "cell_type": "code",
   "execution_count": 162,
   "metadata": {},
   "outputs": [
    {
     "data": {
      "text/plain": [
       "[9, 8, 7, 6, 5, 4]"
      ]
     },
     "execution_count": 162,
     "metadata": {},
     "output_type": "execute_result"
    }
   ],
   "source": [
    "lucky_numbers.reverse()\n",
    "lucky_numbers"
   ]
  },
  {
   "cell_type": "code",
   "execution_count": 165,
   "metadata": {},
   "outputs": [],
   "source": [
    "friends2=friends.copy()"
   ]
  },
  {
   "cell_type": "code",
   "execution_count": 166,
   "metadata": {},
   "outputs": [
    {
     "data": {
      "text/plain": [
       "['Anna', 'Creed', 'Karen', 'Kevin', 'Oscar', 'Ram']"
      ]
     },
     "execution_count": 166,
     "metadata": {},
     "output_type": "execute_result"
    }
   ],
   "source": [
    "friends2"
   ]
  },
  {
   "cell_type": "raw",
   "metadata": {},
   "source": [
    "Tuples (Very similar the list), Tuples can not be modified later on. remains as it is."
   ]
  },
  {
   "cell_type": "code",
   "execution_count": 168,
   "metadata": {},
   "outputs": [
    {
     "name": "stdout",
     "output_type": "stream",
     "text": [
      "5\n"
     ]
    }
   ],
   "source": [
    "coordinates = (4,5)\n",
    "print(coordinates[1])"
   ]
  },
  {
   "cell_type": "code",
   "execution_count": 170,
   "metadata": {},
   "outputs": [
    {
     "data": {
      "text/plain": [
       "[(4, 5), (6, 7), (30, 30)]"
      ]
     },
     "execution_count": 170,
     "metadata": {},
     "output_type": "execute_result"
    }
   ],
   "source": [
    "#you can create also list of tuples\n",
    "coordinates=[(4,5),(6,7),(30,30)]\n",
    "coordinates\n"
   ]
  },
  {
   "cell_type": "raw",
   "metadata": {},
   "source": [
    "#Tuples are a great add-on to the python repertoire.\n",
    "#I can used, if something should not be changed"
   ]
  },
  {
   "cell_type": "markdown",
   "metadata": {},
   "source": [
    "# Functions"
   ]
  },
  {
   "cell_type": "code",
   "execution_count": 172,
   "metadata": {},
   "outputs": [],
   "source": [
    "def sayhi():\n",
    "    print(\"Hello User\")\n",
    "    "
   ]
  },
  {
   "cell_type": "code",
   "execution_count": 173,
   "metadata": {},
   "outputs": [
    {
     "name": "stdout",
     "output_type": "stream",
     "text": [
      "Hello User\n"
     ]
    }
   ],
   "source": [
    "sayhi()"
   ]
  },
  {
   "cell_type": "code",
   "execution_count": 174,
   "metadata": {},
   "outputs": [],
   "source": [
    "def sayhi(name):\n",
    "    print(\"Hello\" + name)\n",
    "    "
   ]
  },
  {
   "cell_type": "code",
   "execution_count": 176,
   "metadata": {},
   "outputs": [
    {
     "name": "stdout",
     "output_type": "stream",
     "text": [
      "HelloVin\n"
     ]
    }
   ],
   "source": [
    "sayhi(\"Vin\")"
   ]
  },
  {
   "cell_type": "code",
   "execution_count": 183,
   "metadata": {},
   "outputs": [],
   "source": [
    "def sayhi(name, age):\n",
    "    print(\"Hello\" + name + \",you are\" + str(age))"
   ]
  },
  {
   "cell_type": "code",
   "execution_count": 185,
   "metadata": {},
   "outputs": [
    {
     "name": "stdout",
     "output_type": "stream",
     "text": [
      "Hellovin,you are35\n"
     ]
    }
   ],
   "source": [
    "sayhi(\"vin\",35)"
   ]
  },
  {
   "cell_type": "raw",
   "metadata": {},
   "source": [
    "Return Statement"
   ]
  },
  {
   "cell_type": "code",
   "execution_count": 190,
   "metadata": {},
   "outputs": [
    {
     "data": {
      "text/plain": [
       "27"
      ]
     },
     "execution_count": 190,
     "metadata": {},
     "output_type": "execute_result"
    }
   ],
   "source": [
    "def cube(num):\n",
    "    return num*num*num\n",
    "    \n",
    "    \n",
    "cube(3)\n"
   ]
  },
  {
   "cell_type": "code",
   "execution_count": 192,
   "metadata": {},
   "outputs": [
    {
     "name": "stdout",
     "output_type": "stream",
     "text": [
      "64\n"
     ]
    }
   ],
   "source": [
    "result=cube(4)\n",
    "print(result)"
   ]
  },
  {
   "cell_type": "markdown",
   "metadata": {},
   "source": [
    "# If Statements"
   ]
  },
  {
   "cell_type": "code",
   "execution_count": 193,
   "metadata": {},
   "outputs": [],
   "source": [
    "is_male=True"
   ]
  },
  {
   "cell_type": "code",
   "execution_count": 194,
   "metadata": {},
   "outputs": [
    {
     "data": {
      "text/plain": [
       "True"
      ]
     },
     "execution_count": 194,
     "metadata": {},
     "output_type": "execute_result"
    }
   ],
   "source": [
    "is_male"
   ]
  },
  {
   "cell_type": "code",
   "execution_count": 195,
   "metadata": {},
   "outputs": [
    {
     "name": "stdout",
     "output_type": "stream",
     "text": [
      "You are male\n"
     ]
    }
   ],
   "source": [
    "if is_male:\n",
    "    print(\"You are male\")"
   ]
  },
  {
   "cell_type": "code",
   "execution_count": 196,
   "metadata": {},
   "outputs": [],
   "source": [
    "is_male=False"
   ]
  },
  {
   "cell_type": "code",
   "execution_count": 197,
   "metadata": {},
   "outputs": [],
   "source": [
    "if is_male:\n",
    "    print(\"You are male\")"
   ]
  },
  {
   "cell_type": "code",
   "execution_count": 199,
   "metadata": {},
   "outputs": [],
   "source": [
    "if is_male:\n",
    "    print(\"You are male\")"
   ]
  },
  {
   "cell_type": "code",
   "execution_count": 202,
   "metadata": {},
   "outputs": [
    {
     "name": "stdout",
     "output_type": "stream",
     "text": [
      "You are not male\n"
     ]
    }
   ],
   "source": [
    "if is_male:\n",
    "    print(\"You are male\")\n",
    "else:\n",
    "    print(\"You are not male\")"
   ]
  },
  {
   "cell_type": "code",
   "execution_count": 209,
   "metadata": {},
   "outputs": [],
   "source": [
    "is_male=True\n",
    "is_tall=False"
   ]
  },
  {
   "cell_type": "code",
   "execution_count": 204,
   "metadata": {},
   "outputs": [
    {
     "name": "stdout",
     "output_type": "stream",
     "text": [
      "you are male or tall or both\n"
     ]
    }
   ],
   "source": [
    "if is_male or is_tall:\n",
    "    print(\"you are male or tall or both\")\n",
    "else:\n",
    "    print(\"You neighter male nor tall\")"
   ]
  },
  {
   "cell_type": "code",
   "execution_count": 205,
   "metadata": {},
   "outputs": [
    {
     "name": "stdout",
     "output_type": "stream",
     "text": [
      "you are male and tall \n"
     ]
    }
   ],
   "source": [
    "if is_male and is_tall:\n",
    "    print(\"you are male and tall \")\n",
    "else:\n",
    "    print(\"You neighter not male and neither tall\")"
   ]
  },
  {
   "cell_type": "code",
   "execution_count": 210,
   "metadata": {},
   "outputs": [
    {
     "name": "stdout",
     "output_type": "stream",
     "text": [
      "You are a short male\n"
     ]
    }
   ],
   "source": [
    "if is_male and is_tall:\n",
    "    print(\"you are male and tall \")\n",
    "elif is_male and not(is_tall):\n",
    "    print(\"You are a short male\") \n",
    "elif not(is_male) and is_tall:\n",
    "    print(\"you are tall, but not male\")\n",
    "else:\n",
    "    print(\"You neighter not male and neither tall\")"
   ]
  },
  {
   "cell_type": "raw",
   "metadata": {},
   "source": [
    "If statemetents and Comparisons"
   ]
  },
  {
   "cell_type": "code",
   "execution_count": 211,
   "metadata": {},
   "outputs": [],
   "source": [
    "def max_num(num1,num2,num3):\n",
    "    if num1 >= num2 and num1 >=num3:\n",
    "        return num1\n",
    "    elif num2 >= num1 and num2 >= num3:\n",
    "        return num2\n",
    "    else:\n",
    "        return num3"
   ]
  },
  {
   "cell_type": "code",
   "execution_count": 212,
   "metadata": {},
   "outputs": [
    {
     "name": "stdout",
     "output_type": "stream",
     "text": [
      "5\n"
     ]
    }
   ],
   "source": [
    "print(max_num(3,4,5))"
   ]
  },
  {
   "cell_type": "code",
   "execution_count": 213,
   "metadata": {},
   "outputs": [
    {
     "name": "stdout",
     "output_type": "stream",
     "text": [
      "3\n"
     ]
    }
   ],
   "source": [
    "print(max_num(3,3,3))"
   ]
  },
  {
   "cell_type": "raw",
   "metadata": {},
   "source": [
    "Building a better Calculator:"
   ]
  },
  {
   "cell_type": "code",
   "execution_count": 224,
   "metadata": {},
   "outputs": [
    {
     "name": "stdout",
     "output_type": "stream",
     "text": [
      "Enter 1st number: 5\n",
      "Enter the operator, choose from: add, mul, div, subadd\n",
      "Enter 1st number: 2\n"
     ]
    }
   ],
   "source": [
    "#get input from the user\n",
    "num1=float(input(\"Enter 1st number: \"))\n",
    "op=input(\"Enter the operator, choose from: add, mul, div, sub\")\n",
    "num2=float(input(\"Enter 1st number: \"))"
   ]
  },
  {
   "cell_type": "code",
   "execution_count": 223,
   "metadata": {},
   "outputs": [],
   "source": [
    "def do_stuff(num1,op,num3):\n",
    "    if op==\"add\":\n",
    "        return num1+num2\n",
    "    elif op==\"mul\":\n",
    "        return num1 * num2\n",
    "    elif op==\"div\":\n",
    "        return num1/num2\n",
    "    elif op==\"sub\":\n",
    "        return num1 - num2\n",
    "    else:\n",
    "        print(\"Not valid operator\")"
   ]
  },
  {
   "cell_type": "code",
   "execution_count": 225,
   "metadata": {},
   "outputs": [
    {
     "data": {
      "text/plain": [
       "7.0"
      ]
     },
     "execution_count": 225,
     "metadata": {},
     "output_type": "execute_result"
    }
   ],
   "source": [
    "do_stuff(num1,op,num3)"
   ]
  },
  {
   "cell_type": "code",
   "execution_count": 226,
   "metadata": {},
   "outputs": [
    {
     "data": {
      "text/plain": [
       "5.0"
      ]
     },
     "execution_count": 226,
     "metadata": {},
     "output_type": "execute_result"
    }
   ],
   "source": [
    "do_stuff(10,\"div\",2)"
   ]
  },
  {
   "cell_type": "markdown",
   "metadata": {},
   "source": [
    "# Dictionary"
   ]
  },
  {
   "cell_type": "code",
   "execution_count": 232,
   "metadata": {},
   "outputs": [],
   "source": [
    "monthConversions={\n",
    "    \"Jan\":\"January\",\n",
    "    \"Feb\":\"February\",\n",
    "    \"Mar\":\"March\",\n",
    "    \"Apr\":\"April\",\n",
    "    \"May\":\"May\",\n",
    "    \"Jun\":\"June\",\n",
    "    \"Jul\":\"July\",\n",
    "    \"Aug\":\"August\",\n",
    "    \"Sep\":\"September\",\n",
    "    \"Oct\":\"October\",\n",
    "    \"Nov\":\"November\",\n",
    "    \"Dec\":\"December\",\n",
    "}"
   ]
  },
  {
   "cell_type": "code",
   "execution_count": 237,
   "metadata": {},
   "outputs": [
    {
     "name": "stdout",
     "output_type": "stream",
     "text": [
      "January\n"
     ]
    }
   ],
   "source": [
    "print(monthConversions[\"Jan\"])"
   ]
  },
  {
   "cell_type": "code",
   "execution_count": 239,
   "metadata": {},
   "outputs": [
    {
     "name": "stdout",
     "output_type": "stream",
     "text": [
      "December\n"
     ]
    }
   ],
   "source": [
    "print(monthConversions.get(\"Dec\"))"
   ]
  },
  {
   "cell_type": "code",
   "execution_count": 240,
   "metadata": {},
   "outputs": [
    {
     "name": "stdout",
     "output_type": "stream",
     "text": [
      "None\n"
     ]
    }
   ],
   "source": [
    "print(monthConversions.get(\"Luv\"))"
   ]
  },
  {
   "cell_type": "raw",
   "metadata": {},
   "source": [
    "Key can be also numbers"
   ]
  },
  {
   "cell_type": "code",
   "execution_count": null,
   "metadata": {},
   "outputs": [],
   "source": [
    "monthConversions={\n",
    "    0:\"January\",\n",
    "    1:\"February\",\n",
    "    2:\"March\",\n",
    "    3:\"April\",\n",
    "    4:\"May\",\n",
    "    \"Jun\":\"June\",\n",
    "    \"Jul\":\"July\",\n",
    "    \"Aug\":\"August\",\n",
    "    \"Sep\":\"September\",\n",
    "    \"Oct\":\"October\",\n",
    "    \"Nov\":\"November\",\n",
    "    \"Dec\":\"December\",\n",
    "}"
   ]
  },
  {
   "cell_type": "markdown",
   "metadata": {},
   "source": [
    "# While Loop"
   ]
  },
  {
   "cell_type": "raw",
   "metadata": {},
   "source": [
    "now go to the next python_002.py"
   ]
  }
 ],
 "metadata": {
  "kernelspec": {
   "display_name": "Python 3",
   "language": "python",
   "name": "python3"
  },
  "language_info": {
   "codemirror_mode": {
    "name": "ipython",
    "version": 3
   },
   "file_extension": ".py",
   "mimetype": "text/x-python",
   "name": "python",
   "nbconvert_exporter": "python",
   "pygments_lexer": "ipython3",
   "version": "3.6.4"
  }
 },
 "nbformat": 4,
 "nbformat_minor": 2
}
